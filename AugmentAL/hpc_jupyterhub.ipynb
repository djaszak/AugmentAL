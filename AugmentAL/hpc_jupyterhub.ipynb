{
 "cells": [
  {
   "cell_type": "code",
   "execution_count": null,
   "id": "8c64acb2-32d0-4d47-a4e5-51136f9351f0",
   "metadata": {},
   "outputs": [],
   "source": [
    "from core.loop import run_active_learning_loop\n",
    "from core.constants import Datasets, TransformerModels\n",
    "from datasets import load_dataset\n",
    "from nlpaug.augmenter import word as naw\n",
    "from core.augment import create_augmented_dataset\n",
    "\n",
    "query_strategies = [\n",
    "    \"RandomSampling\",\n",
    "    \"BreakingTies\",\n",
    "    \"AugmentedSearchSpaceExtensionQueryStrategy\",\n",
    "    \"AugmentedSearchSpaceExtensionAndOutcomeQueryStrategy\",\n",
    "    \"AugmentedOutcomesQueryStrategy\",\n",
    "    \"AverageAcrossAugmentedQueryStrategy\",\n",
    "    \"AverageAcrossAugmentedExtendedOutcomesQueryStrategy\",\n",
    "]\n",
    "\n",
    "num_queries = 5\n",
    "num_samples = 2\n",
    "num_augmentations = 2\n",
    "\n",
    "datasets = [Datasets.ROTTEN.value]\n",
    "\n",
    "for dataset_name in datasets:\n",
    "\n",
    "    dataset = load_dataset(dataset_name)\n",
    "\n",
    "    raw_test = dataset[\"test\"]\n",
    "    raw_train = dataset[\"train\"]\n",
    "    raw_augmented_train, augmented_indices = create_augmented_dataset(\n",
    "        raw_train, naw.SynonymAug(aug_src=\"wordnet\"), n=num_augmentations\n",
    "    )\n",
    "\n",
    "    for query_strategy in query_strategies:\n",
    "        run_active_learning_loop(\n",
    "            raw_test,\n",
    "            raw_train,\n",
    "            raw_augmented_train,\n",
    "            augmented_indices,\n",
    "            num_queries=num_queries,\n",
    "            num_samples=num_samples,\n",
    "            num_augmentations=num_augmentations\n",
    "            if query_strategy != \"BreakingTies\"\n",
    "            else 0,\n",
    "            query_strategy=query_strategy,\n",
    "            model=TransformerModels.BERT.value,\n",
    "            device=\"cuda\",\n",
    "        )"
   ]
  },
  {
   "cell_type": "code",
   "execution_count": null,
   "id": "870cfea3-f58e-4cf4-81f6-d4a7b105d27b",
   "metadata": {},
   "outputs": [],
   "source": []
  }
 ],
 "metadata": {
  "kernelspec": {
   "display_name": "PyTorch v2.x (Machine Learning)",
   "language": "python",
   "name": "pytorch_v2"
  },
  "language_info": {
   "codemirror_mode": {
    "name": "ipython",
    "version": 3
   },
   "file_extension": ".py",
   "mimetype": "text/x-python",
   "name": "python",
   "nbconvert_exporter": "python",
   "pygments_lexer": "ipython3",
   "version": "3.10.4"
  }
 },
 "nbformat": 4,
 "nbformat_minor": 5
}
